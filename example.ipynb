{
 "cells": [
  {
   "cell_type": "markdown",
   "id": "9b818e95-48f7-4dd3-b0fd-9f3e91f63d6b",
   "metadata": {},
   "source": [
    "# An Example Notebook\n",
    "\n",
    "This is an example notebook to help describe the jupyter text-based notebook format that was developed during the [Juptyer Notebook Format Community Workshop](https://blog.jupyter.org/jupyter-community-workshop-the-notebook-file-format-8133ed606118) in Massy, Feb 2023. This proposal will be formalized in a [JEP](https://github.com/jupyter/enhancement_proposals).\n",
    "\n"
   ]
  },
  {
   "cell_type": "markdown",
   "id": "3bb109c4-dbb4-43f5-aa1c-bb9c1f010d7b",
   "metadata": {},
   "source": [
    "The notebook is intented to include all major elements being considered in the proposal, including:\n",
    "\n",
    "* Markdown content split accross multiple cells\n",
    "* Raw cells\n",
    "* Cell attachments\n",
    "* Code cells\n",
    "* Code cell outputs\n",
    "    * stream\n",
    "    * error\n",
    "    * execute_result\n",
    "    * display_data\n",
    "* Cell metadata"
   ]
  },
  {
   "cell_type": "raw",
   "id": "3f11da3f-dfe0-4d40-a569-c43d6d403e00",
   "metadata": {},
   "source": [
    "This is the content of a RAW cell"
   ]
  },
  {
   "attachments": {
    "58a0b827-f4b0-48cb-899f-08e3b607e7b4.png": {
     "image/png": "[encoded data removed]"
    },
    "cf220f8c-b64b-464d-b6c0-f213fbe81e4a.png": {
     "image/png": "[encoded data removed]"
    }
   },
   "cell_type": "markdown",
   "id": "fa415560-f20c-4726-ad58-5c90002395fd",
   "metadata": {
    "slideshow": {
     "slide_type": "slide"
    },
    "tags": [
     "method"
    ]
   },
   "source": [
    "## Attachments\n",
    "\n",
    "This is a Markdown cell with two (tiny) attachments: ![orange_dot.png](attachment:cf220f8c-b64b-464d-b6c0-f213fbe81e4a.png) ![green_dot.png](attachment:58a0b827-f4b0-48cb-899f-08e3b607e7b4.png)\n",
    "\n",
    "**and** has `tags` and `slide` metadata"
   ]
  },
  {
   "cell_type": "code",
   "execution_count": 2,
   "id": "3b0fc308-633a-4322-9dcb-ff0d06fe70dc",
   "metadata": {},
   "outputs": [],
   "source": [
    "# a python code cell with no outputs\n",
    "\n",
    "x = 1;"
   ]
  },
  {
   "cell_type": "code",
   "execution_count": 5,
   "id": "7566aa84-cbd8-4d5a-8324-e850c5c03b64",
   "metadata": {},
   "outputs": [
    {
     "name": "stdout",
     "output_type": "stream",
     "text": [
      "hello markdown!\n"
     ]
    }
   ],
   "source": [
    "# a python code cell producing a stream\n",
    "print('hello markdown!')"
   ]
  },
  {
   "cell_type": "code",
   "execution_count": 3,
   "id": "54d3c313-37c3-4a61-9240-60f4f3bd6f18",
   "metadata": {},
   "outputs": [
    {
     "data": {
      "text/plain": [
       "2"
      ]
     },
     "execution_count": 3,
     "metadata": {},
     "output_type": "execute_result"
    }
   ],
   "source": [
    "# a python code cell procuding an execute_result (text/plain)\n",
    "1 + 1"
   ]
  },
  {
   "cell_type": "code",
   "execution_count": 18,
   "id": "d72a6c1d-011f-4667-9dd0-0d71ec3a9d8f",
   "metadata": {},
   "outputs": [
    {
     "data": {
      "text/html": [
       "<div>hello html!</div>"
      ],
      "text/plain": [
       "<IPython.core.display.HTML object>"
      ]
     },
     "metadata": {},
     "output_type": "display_data"
    },
    {
     "data": {
      "image/png": "[encoded data removed]",
      "text/plain": [
       "<IPython.core.display.Image object>"
      ]
     },
     "metadata": {},
     "output_type": "display_data"
    }
   ],
   "source": [
    "# a python code cell producing a display_data (text/plain, text/html, image/png)\n",
    "from IPython.display import display, TextDisplayObject, HTML, Image\n",
    "\n",
    "display(HTML(\"<div>hello html!</div>\"));\n",
    "display(Image(filename=\"./blue_dot.png\", embed=True))"
   ]
  },
  {
   "cell_type": "code",
   "execution_count": 27,
   "id": "d641c232-7511-455d-a6b4-437465bc8b18",
   "metadata": {},
   "outputs": [
    {
     "ename": "NameError",
     "evalue": "name 'two_x' is not defined",
     "output_type": "error",
     "traceback": [
      "\u001b[0;31m---------------------------------------------------------------------------\u001b[0m",
      "\u001b[0;31mNameError\u001b[0m                                 Traceback (most recent call last)",
      "Cell \u001b[0;32mIn[27], line 2\u001b[0m\n\u001b[1;32m      1\u001b[0m \u001b[38;5;66;03m# a python code cell the produces an error, with a traceback\u001b[39;00m\n\u001b[0;32m----> 2\u001b[0m x \u001b[38;5;241m=\u001b[39m \u001b[43mtwo_x\u001b[49m\n",
      "\u001b[0;31mNameError\u001b[0m: name 'two_x' is not defined"
     ]
    }
   ],
   "source": [
    "# a python code cell the produces an error, with a traceback\n",
    "x = two_x"
   ]
  },
  {
   "cell_type": "markdown",
   "id": "8abb250e-25d5-4866-af22-13a61735c41a",
   "metadata": {},
   "source": [
    "## Empty\n",
    "\n",
    "The following two cells are intentionally empty"
   ]
  },
  {
   "cell_type": "raw",
   "id": "d9332d23-16af-48d1-a858-f41e7e6e5c82",
   "metadata": {},
   "source": []
  },
  {
   "cell_type": "code",
   "execution_count": null,
   "id": "3f9a10ae-b36c-4ae8-a0ae-69453f671047",
   "metadata": {},
   "outputs": [],
   "source": []
  }
 ],
 "metadata": {
  "kernelspec": {
   "display_name": "Python 3",
   "language": "python",
   "name": "python3"
  },
  "language_info": {
   "codemirror_mode": {
    "name": "ipython",
    "version": 3
   },
   "file_extension": ".py",
   "mimetype": "text/x-python",
   "name": "python",
   "nbconvert_exporter": "python",
   "pygments_lexer": "ipython3",
   "version": "3.8.10"
  }
 },
 "nbformat": 4,
 "nbformat_minor": 5
}
